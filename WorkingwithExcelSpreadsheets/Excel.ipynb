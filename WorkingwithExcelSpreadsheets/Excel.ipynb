{
 "cells": [
  {
   "cell_type": "code",
   "execution_count": 5,
   "metadata": {},
   "outputs": [],
   "source": [
    "import openpyxl # this works with file xlsx files only"
   ]
  },
  {
   "cell_type": "code",
   "execution_count": 6,
   "metadata": {},
   "outputs": [
    {
     "data": {
      "text/plain": [
       "['Export Summary', 'Sample-spreadsheet-file', 'Sheet 1']"
      ]
     },
     "execution_count": 6,
     "metadata": {},
     "output_type": "execute_result"
    }
   ],
   "source": [
    "wb = openpyxl.load_workbook('SampleXLSX.xlsx')\n",
    "wb.sheetnames # list all sheet in file"
   ]
  },
  {
   "cell_type": "code",
   "execution_count": 118,
   "metadata": {},
   "outputs": [],
   "source": [
    "sheet = wb['Sheet 1'] # access sheet "
   ]
  },
  {
   "cell_type": "code",
   "execution_count": 48,
   "metadata": {},
   "outputs": [
    {
     "data": {
      "text/plain": [
       "'Sheet 1'"
      ]
     },
     "execution_count": 48,
     "metadata": {},
     "output_type": "execute_result"
    }
   ],
   "source": [
    "sheet.title"
   ]
  },
  {
   "cell_type": "code",
   "execution_count": 57,
   "metadata": {},
   "outputs": [
    {
     "name": "stdout",
     "output_type": "stream",
     "text": [
      "Value : Barry French  || Type : <class 'str'>\n",
      "Value : 293  || Type : <class 'int'>\n",
      "Value : 2.99  || Type : <class 'float'>\n",
      "Value : 2018-01-02 00:00:00  || Type : <class 'datetime.datetime'>\n"
     ]
    }
   ],
   "source": [
    "# openpyxl automatically indentify type of data\n",
    "print('Value :', sheet['B4'].value, ' || Type :', type(sheet['B4'].value))\n",
    "print('Value :', sheet['C4'].value, ' || Type :', type(sheet['C4'].value))\n",
    "print('Value :', sheet['F4'].value, ' || Type :', type(sheet['F4'].value))\n",
    "print('Value :', sheet['J4'].value, ' || Type :', type(sheet['J4'].value))"
   ]
  },
  {
   "cell_type": "code",
   "execution_count": 119,
   "metadata": {},
   "outputs": [
    {
     "name": "stdout",
     "output_type": "stream",
     "text": [
      "Total Row :  53 \n",
      "Total Column :  10\n"
     ]
    }
   ],
   "source": [
    "# we can also access cell using\n",
    "sheet.cell(row=3, column=2).value \n",
    "sheet['A'] # return complete A column \n",
    "sheet[2] # return complete 2nd row\n",
    "sheet['A':'F'] # return column A to F \n",
    "sheet[1:40] # return column A to F \n",
    "print('Total Row : ',sheet.max_row, '\\nTotal Column : ', sheet.max_column)\n"
   ]
  },
  {
   "cell_type": "code",
   "execution_count": 62,
   "metadata": {},
   "outputs": [
    {
     "name": "stdout",
     "output_type": "stream",
     "text": [
      "['BREAK_COLUMN', 'BREAK_NONE', 'BREAK_ROW', 'HeaderFooter', 'ORIENTATION_LANDSCAPE', 'ORIENTATION_PORTRAIT', 'PAPERSIZE_A3', 'PAPERSIZE_A4', 'PAPERSIZE_A4_SMALL', 'PAPERSIZE_A5', 'PAPERSIZE_EXECUTIVE', 'PAPERSIZE_LEDGER', 'PAPERSIZE_LEGAL', 'PAPERSIZE_LETTER', 'PAPERSIZE_LETTER_SMALL', 'PAPERSIZE_STATEMENT', 'PAPERSIZE_TABLOID', 'SHEETSTATE_HIDDEN', 'SHEETSTATE_VERYHIDDEN', 'SHEETSTATE_VISIBLE', '_WorkbookChild__parent', '_WorkbookChild__title', '__class__', '__delattr__', '__dict__', '__dir__', '__doc__', '__eq__', '__format__', '__ge__', '__getattribute__', '__getitem__', '__gt__', '__hash__', '__init__', '__init_subclass__', '__iter__', '__le__', '__lt__', '__module__', '__ne__', '__new__', '__reduce__', '__reduce_ex__', '__repr__', '__setattr__', '__setitem__', '__sizeof__', '__str__', '__subclasshook__', '__weakref__', '_add_cell', '_add_column', '_add_row', '_cells', '_cells_by_col', '_cells_by_row', '_charts', '_comments', '_current_row', '_default_title', '_drawing', '_get_cell', '_hyperlinks', '_id', '_images', '_invalid_row', '_merged_cells', '_path', '_print_area', '_print_cols', '_print_rows', '_rel_type', '_rels', '_setup', '_tables', '_write', 'active_cell', 'add_chart', 'add_data_validation', 'add_image', 'add_print_title', 'add_table', 'append', 'auto_filter', 'calculate_dimension', 'cell', 'column_dimensions', 'columns', 'conditional_formatting', 'data_validations', 'dimensions', 'encoding', 'evenFooter', 'evenHeader', 'firstFooter', 'firstHeader', 'formula_attributes', 'freeze_panes', 'get_cell_collection', 'get_named_range', 'get_squared_range', 'iter_cols', 'iter_rows', 'legacy_drawing', 'max_column', 'max_row', 'merge_cells', 'merged_cell_ranges', 'merged_cells', 'mime_type', 'min_column', 'min_row', 'oddFooter', 'oddHeader', 'orientation', 'page_breaks', 'page_margins', 'page_setup', 'paper_size', 'parent', 'path', 'point_pos', 'print_area', 'print_options', 'print_title_cols', 'print_title_rows', 'print_titles', 'protection', 'row_dimensions', 'rows', 'selected_cell', 'set_printer_settings', 'sheet_format', 'sheet_properties', 'sheet_state', 'sheet_view', 'show_gridlines', 'show_summary_below', 'show_summary_right', 'sort_state', 'title', 'unmerge_cells', 'values', 'vba_code', 'views']\n"
     ]
    }
   ],
   "source": [
    "print(dir(sheet))"
   ]
  },
  {
   "cell_type": "code",
   "execution_count": 7,
   "metadata": {},
   "outputs": [
    {
     "name": "stdout",
     "output_type": "stream",
     "text": [
      "['Sheet 0', 'Very new sheet', 'Sheet', 'sheet 3']\n",
      "['Sheet 0', 'Very new sheet', 'sheet 3']\n"
     ]
    }
   ],
   "source": [
    "# working with new file and ways of creating new sheet inside\n",
    "wb = openpyxl.Workbook()\n",
    "sheet = wb['Sheet']\n",
    "sheet.title = 'Very new sheet'\n",
    "wb.create_sheet()\n",
    "wb.create_sheet('sheet 3')\n",
    "wb.create_sheet(index=0, title='Sheet 0')\n",
    "print(wb.sheetnames)\n",
    "wb.remove(wb['Sheet'])\n",
    "print(wb.sheetnames)\n",
    "\n",
    "wb.save('New Excel file.xlsx')"
   ]
  },
  {
   "cell_type": "code",
   "execution_count": 8,
   "metadata": {},
   "outputs": [],
   "source": [
    "# Writing data to sheet\n",
    "sheet['A1'] = 'First text'\n",
    "wb.save('New Excel file.xlsx')"
   ]
  },
  {
   "cell_type": "code",
   "execution_count": 9,
   "metadata": {},
   "outputs": [],
   "source": [
    "# styling sheet , there are many option present in openpyxl.styles\n",
    "from openpyxl.styles import Font\n",
    "font1 = Font(name='Times New Roman', bold=True)\n",
    "font2 = Font(italic=True)\n",
    "sheet['A1'].font = font1\n",
    "sheet['A2'] = \"Second Text\"\n",
    "sheet['A2'].font = font2\n",
    "wb.save('New Excel file.xlsx')"
   ]
  },
  {
   "cell_type": "code",
   "execution_count": 10,
   "metadata": {},
   "outputs": [],
   "source": [
    "# inserting formula is as simple as inserting text\n",
    "sheet['A3'] = '=CONCATENATE(A1,A2)'\n",
    "wb.save('New Excel file.xlsx')"
   ]
  },
  {
   "cell_type": "code",
   "execution_count": 12,
   "metadata": {},
   "outputs": [],
   "source": [
    "# merging and unmerging cells\n",
    "sheet.merge_cells('B1:D2')\n",
    "sheet['B1'] = 'merged cells 1'\n",
    "sheet.merge_cells('C4:E7')\n",
    "sheet['C2'] = 'merged cells 2'\n",
    "wb.save('New Excel file.xlsx')\n",
    "\n",
    "\n",
    "sheet.unmerge_cells('C4:E7')\n",
    "wb.save('New Excel file.xlsx')"
   ]
  },
  {
   "cell_type": "code",
   "execution_count": null,
   "metadata": {},
   "outputs": [],
   "source": []
  }
 ],
 "metadata": {
  "kernelspec": {
   "display_name": "Python 3",
   "language": "python",
   "name": "python3"
  },
  "language_info": {
   "codemirror_mode": {
    "name": "ipython",
    "version": 3
   },
   "file_extension": ".py",
   "mimetype": "text/x-python",
   "name": "python",
   "nbconvert_exporter": "python",
   "pygments_lexer": "ipython3",
   "version": "3.6.4"
  }
 },
 "nbformat": 4,
 "nbformat_minor": 2
}
