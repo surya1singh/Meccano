{
 "cells": [
  {
   "cell_type": "code",
   "execution_count": 129,
   "metadata": {},
   "outputs": [],
   "source": [
    "from bs4 import BeautifulSoup # version 4.6.0\n",
    "urllib.request\n",
    "\n",
    "file_url = 'file:///Users/suryasingh/Documents/virtualenv_flask/Meccano/beautifulsoup/firstpage.html'\n",
    "\n",
    "with urllib.request.urlopen(file_url) as web: # read url \n",
    "    data = web.read()\n",
    "    web.close()\n",
    "soup = BeautifulSoup(data,\"html.parser\")"
   ]
  },
  {
   "cell_type": "code",
   "execution_count": 127,
   "metadata": {},
   "outputs": [
    {
     "name": "stdout",
     "output_type": "stream",
     "text": [
      "<html>\n",
      " <title>\n",
      "  Web Title\n",
      " </title>\n",
      " <head>\n",
      "  <link href=\"style.css\" rel=\"stylesheet\"/>\n",
      "  <link href=\"style2.css\" rel=\"stylesheet\"/>\n",
      " </head>\n",
      " <body>\n",
      "  <nav>\n",
      "   <div>\n",
      "    home\n",
      "   </div>\n",
      "   <div>\n",
      "    title\n",
      "   </div>\n",
      "  </nav>\n",
      "  <div class=\"contaner\">\n",
      "   <div class=\"sidebar\">\n",
      "    <div class=\"row\">\n",
      "     <li class=\"col\" href=\"#\">\n",
      "      first link\n",
      "     </li>\n",
      "     <li class=\"col\" href=\"#\">\n",
      "      second link\n",
      "     </li>\n",
      "     <li class=\"col\" href=\"#\">\n",
      "      thirt link\n",
      "     </li>\n",
      "     <li class=\"col\" href=\"#\">\n",
      "      fourth link\n",
      "     </li>\n",
      "    </div>\n",
      "   </div>\n",
      "   <div class=\"main_body\">\n",
      "    <div class=\"row\" id=\"1\">\n",
      "     <div class=\"col\">\n",
      "      this is body\n",
      "     </div>\n",
      "    </div>\n",
      "    <div class=\"row\" id=\"2\">\n",
      "     <div class=\"col\">\n",
      "      this is body\n",
      "     </div>\n",
      "    </div>\n",
      "    <div class=\"row\" id=\"3\">\n",
      "     <div class=\"col\">\n",
      "      this is body\n",
      "     </div>\n",
      "    </div>\n",
      "   </div>\n",
      "  </div>\n",
      "  <link class=\"js\" href=\"javascript.js\" rel=\"stylesheet\"/>\n",
      " </body>\n",
      "</html>\n",
      "\n"
     ]
    }
   ],
   "source": [
    "print(soup.prettify())"
   ]
  },
  {
   "cell_type": "code",
   "execution_count": 130,
   "metadata": {},
   "outputs": [
    {
     "name": "stdout",
     "output_type": "stream",
     "text": [
      "[' home ']\n",
      "[' title ']\n",
      "['\\n', <div class=\"sidebar\">\n",
      "<div class=\"row\">\n",
      "<li class=\"col\" href=\"#\">first link</li>\n",
      "<li class=\"col\" href=\"#\">second link</li>\n",
      "<li class=\"col\" href=\"#\">thirt link</li>\n",
      "<li class=\"col\" href=\"#\">fourth link</li>\n",
      "</div>\n",
      "</div>, '\\n', <div class=\"main_body\">\n",
      "<div class=\"row\" id=\"1\">\n",
      "<div class=\"col\"> this is body</div>\n",
      "</div>\n",
      "<div class=\"row\" id=\"2\">\n",
      "<div class=\"col\"> this is body</div>\n",
      "</div>\n",
      "<div class=\"row\" id=\"3\">\n",
      "<div class=\"col\"> this is body</div>\n",
      "</div>\n",
      "</div>, '\\n']\n",
      "['\\n', <div class=\"row\">\n",
      "<li class=\"col\" href=\"#\">first link</li>\n",
      "<li class=\"col\" href=\"#\">second link</li>\n",
      "<li class=\"col\" href=\"#\">thirt link</li>\n",
      "<li class=\"col\" href=\"#\">fourth link</li>\n",
      "</div>, '\\n']\n",
      "['\\n', <li class=\"col\" href=\"#\">first link</li>, '\\n', <li class=\"col\" href=\"#\">second link</li>, '\\n', <li class=\"col\" href=\"#\">thirt link</li>, '\\n', <li class=\"col\" href=\"#\">fourth link</li>, '\\n']\n",
      "['\\n', <div class=\"row\" id=\"1\">\n",
      "<div class=\"col\"> this is body</div>\n",
      "</div>, '\\n', <div class=\"row\" id=\"2\">\n",
      "<div class=\"col\"> this is body</div>\n",
      "</div>, '\\n', <div class=\"row\" id=\"3\">\n",
      "<div class=\"col\"> this is body</div>\n",
      "</div>, '\\n']\n",
      "['\\n', <div class=\"col\"> this is body</div>, '\\n']\n",
      "[' this is body']\n",
      "['\\n', <div class=\"col\"> this is body</div>, '\\n']\n",
      "[' this is body']\n",
      "['\\n', <div class=\"col\"> this is body</div>, '\\n']\n",
      "[' this is body']\n"
     ]
    }
   ],
   "source": [
    "divs = soup.find_all('div') # find all elements with div tag\n",
    "for div in divs:\n",
    "    div_contents = div.contents\n",
    "    print(div_contents)"
   ]
  },
  {
   "cell_type": "code",
   "execution_count": 67,
   "metadata": {},
   "outputs": [
    {
     "name": "stdout",
     "output_type": "stream",
     "text": [
      "\n",
      "\n",
      "div contains: <div class=\"contaner\">\n",
      "<div class=\"sidebar\">\n",
      "<div class=\"row\">\n",
      "<li class=\"col\" href=\"#\">first link</li>\n",
      "<li class=\"col\" href=\"#\">second link</li>\n",
      "<li class=\"col\" href=\"#\">thirt link</li>\n",
      "<li class=\"col\" href=\"#\">fourth link</li>\n",
      "</div>\n",
      "</div>\n",
      "<div class=\"main_body\">\n",
      "<div class=\"row\">\n",
      "<div class=\"col\"> this is body</div>\n",
      "</div>\n",
      "<div class=\"row\">\n",
      "<div class=\"col\"> this is body</div>\n",
      "</div>\n",
      "<div class=\"row\">\n",
      "<div class=\"col\"> this is body</div>\n",
      "</div>\n",
      "</div>\n",
      "</div>\n",
      "link:  [<li class=\"col\" href=\"#\">first link</li>, <li class=\"col\" href=\"#\">second link</li>, <li class=\"col\" href=\"#\">thirt link</li>, <li class=\"col\" href=\"#\">fourth link</li>]\n",
      "\n",
      "\n",
      "div contains: <div class=\"sidebar\">\n",
      "<div class=\"row\">\n",
      "<li class=\"col\" href=\"#\">first link</li>\n",
      "<li class=\"col\" href=\"#\">second link</li>\n",
      "<li class=\"col\" href=\"#\">thirt link</li>\n",
      "<li class=\"col\" href=\"#\">fourth link</li>\n",
      "</div>\n",
      "</div>\n",
      "link:  [<li class=\"col\" href=\"#\">first link</li>, <li class=\"col\" href=\"#\">second link</li>, <li class=\"col\" href=\"#\">thirt link</li>, <li class=\"col\" href=\"#\">fourth link</li>]\n",
      "\n",
      "\n",
      "div contains: <div class=\"row\">\n",
      "<li class=\"col\" href=\"#\">first link</li>\n",
      "<li class=\"col\" href=\"#\">second link</li>\n",
      "<li class=\"col\" href=\"#\">thirt link</li>\n",
      "<li class=\"col\" href=\"#\">fourth link</li>\n",
      "</div>\n",
      "link:  [<li class=\"col\" href=\"#\">first link</li>, <li class=\"col\" href=\"#\">second link</li>, <li class=\"col\" href=\"#\">thirt link</li>, <li class=\"col\" href=\"#\">fourth link</li>]\n"
     ]
    }
   ],
   "source": [
    "for div in divs: # you can get nested elements\n",
    "    li = div.find_all('li')\n",
    "    if li:\n",
    "        print('\\n\\ndiv contains:' , div)\n",
    "        print('link: ',li)\n",
    "    "
   ]
  },
  {
   "cell_type": "code",
   "execution_count": 73,
   "metadata": {},
   "outputs": [
    {
     "name": "stdout",
     "output_type": "stream",
     "text": [
      "['col']\n",
      "['col']\n",
      "['col']\n",
      "['col']\n"
     ]
    },
    {
     "ename": "KeyError",
     "evalue": "'no_attribute'",
     "output_type": "error",
     "traceback": [
      "\u001b[0;31m---------------------------------------------------------------------------\u001b[0m",
      "\u001b[0;31mKeyError\u001b[0m                                  Traceback (most recent call last)",
      "\u001b[0;32m<ipython-input-73-7a0e0ba0f3cc>\u001b[0m in \u001b[0;36m<module>\u001b[0;34m()\u001b[0m\n\u001b[1;32m      4\u001b[0m \u001b[0;34m\u001b[0m\u001b[0m\n\u001b[1;32m      5\u001b[0m \u001b[0;32mfor\u001b[0m \u001b[0mli\u001b[0m \u001b[0;32min\u001b[0m \u001b[0mlis\u001b[0m\u001b[0;34m:\u001b[0m\u001b[0;34m\u001b[0m\u001b[0m\n\u001b[0;32m----> 6\u001b[0;31m     \u001b[0mprint\u001b[0m\u001b[0;34m(\u001b[0m\u001b[0mli\u001b[0m\u001b[0;34m[\u001b[0m\u001b[0;34m'no_attribute'\u001b[0m\u001b[0;34m]\u001b[0m\u001b[0;34m)\u001b[0m \u001b[0;31m# raise error if try to get attribute which is not available, better use get method\u001b[0m\u001b[0;34m\u001b[0m\u001b[0m\n\u001b[0m",
      "\u001b[0;32m~/anaconda3/lib/python3.6/site-packages/bs4/element.py\u001b[0m in \u001b[0;36m__getitem__\u001b[0;34m(self, key)\u001b[0m\n\u001b[1;32m   1009\u001b[0m         \"\"\"tag[key] returns the value of the 'key' attribute for the tag,\n\u001b[1;32m   1010\u001b[0m         and throws an exception if it's not there.\"\"\"\n\u001b[0;32m-> 1011\u001b[0;31m         \u001b[0;32mreturn\u001b[0m \u001b[0mself\u001b[0m\u001b[0;34m.\u001b[0m\u001b[0mattrs\u001b[0m\u001b[0;34m[\u001b[0m\u001b[0mkey\u001b[0m\u001b[0;34m]\u001b[0m\u001b[0;34m\u001b[0m\u001b[0m\n\u001b[0m\u001b[1;32m   1012\u001b[0m \u001b[0;34m\u001b[0m\u001b[0m\n\u001b[1;32m   1013\u001b[0m     \u001b[0;32mdef\u001b[0m \u001b[0m__iter__\u001b[0m\u001b[0;34m(\u001b[0m\u001b[0mself\u001b[0m\u001b[0;34m)\u001b[0m\u001b[0;34m:\u001b[0m\u001b[0;34m\u001b[0m\u001b[0m\n",
      "\u001b[0;31mKeyError\u001b[0m: 'no_attribute'"
     ]
    }
   ],
   "source": [
    "lis = soup.find_all('li') \n",
    "for li in lis:\n",
    "    print(li['class']) # getting attributes of element\n",
    "    \n",
    "for li in lis:\n",
    "    print(li['no_attribute']) # raise error if try to get attribute which is not available, better use get method"
   ]
  },
  {
   "cell_type": "code",
   "execution_count": 74,
   "metadata": {},
   "outputs": [
    {
     "name": "stdout",
     "output_type": "stream",
     "text": [
      "None\n",
      "None\n",
      "None\n",
      "None\n"
     ]
    }
   ],
   "source": [
    "for li in lis:\n",
    "    print(li.get('no_attribute')) "
   ]
  },
  {
   "cell_type": "code",
   "execution_count": 75,
   "metadata": {},
   "outputs": [
    {
     "name": "stdout",
     "output_type": "stream",
     "text": [
      "first link\n",
      "second link\n",
      "thirt link\n",
      "fourth link\n"
     ]
    }
   ],
   "source": [
    "for li in lis:\n",
    "    print(li.get_text())"
   ]
  },
  {
   "cell_type": "code",
   "execution_count": 76,
   "metadata": {},
   "outputs": [
    {
     "name": "stdout",
     "output_type": "stream",
     "text": [
      "first link\n",
      "second link\n",
      "thirt link\n",
      "fourth link\n"
     ]
    }
   ],
   "source": [
    "# can also get elements using index\n",
    "print(lis[0].get_text())\n",
    "print(lis[1].get_text())\n",
    "print(lis[2].get_text())\n",
    "print(lis[3].get_text())"
   ]
  },
  {
   "cell_type": "code",
   "execution_count": 81,
   "metadata": {},
   "outputs": [
    {
     "data": {
      "text/plain": [
       "<title> Web Title </title>"
      ]
     },
     "execution_count": 81,
     "metadata": {},
     "output_type": "execute_result"
    }
   ],
   "source": [
    "soup.title"
   ]
  },
  {
   "cell_type": "code",
   "execution_count": 82,
   "metadata": {},
   "outputs": [
    {
     "data": {
      "text/plain": [
       "'title'"
      ]
     },
     "execution_count": 82,
     "metadata": {},
     "output_type": "execute_result"
    }
   ],
   "source": [
    "soup.title.name"
   ]
  },
  {
   "cell_type": "code",
   "execution_count": 83,
   "metadata": {},
   "outputs": [
    {
     "data": {
      "text/plain": [
       "' Web Title '"
      ]
     },
     "execution_count": 83,
     "metadata": {},
     "output_type": "execute_result"
    }
   ],
   "source": [
    "soup.title.string"
   ]
  },
  {
   "cell_type": "code",
   "execution_count": 84,
   "metadata": {},
   "outputs": [
    {
     "data": {
      "text/plain": [
       "'html'"
      ]
     },
     "execution_count": 84,
     "metadata": {},
     "output_type": "execute_result"
    }
   ],
   "source": [
    "soup.title.parent.name"
   ]
  },
  {
   "cell_type": "code",
   "execution_count": 90,
   "metadata": {},
   "outputs": [
    {
     "data": {
      "text/plain": [
       "<li class=\"col\" href=\"#\">first link</li>"
      ]
     },
     "execution_count": 90,
     "metadata": {},
     "output_type": "execute_result"
    }
   ],
   "source": [
    "soup.li"
   ]
  },
  {
   "cell_type": "code",
   "execution_count": 99,
   "metadata": {},
   "outputs": [
    {
     "name": "stdout",
     "output_type": "stream",
     "text": [
      "['col']\n",
      "#\n"
     ]
    }
   ],
   "source": [
    "print(soup.li['class'])\n",
    "print(soup.li['href'])"
   ]
  },
  {
   "cell_type": "code",
   "execution_count": 102,
   "metadata": {},
   "outputs": [
    {
     "name": "stdout",
     "output_type": "stream",
     "text": [
      "<div class=\"row\" id=\"2\">\n",
      "<div class=\"col\"> this is body</div>\n",
      "</div>\n"
     ]
    }
   ],
   "source": [
    "print(soup.find(id=\"2\"))"
   ]
  },
  {
   "cell_type": "code",
   "execution_count": 103,
   "metadata": {},
   "outputs": [
    {
     "data": {
      "text/plain": [
       "<div class=\"col\"> this is body</div>"
      ]
     },
     "execution_count": 103,
     "metadata": {},
     "output_type": "execute_result"
    }
   ],
   "source": [
    "soup.find(id=\"2\").div"
   ]
  },
  {
   "cell_type": "code",
   "execution_count": 110,
   "metadata": {},
   "outputs": [
    {
     "name": "stdout",
     "output_type": "stream",
     "text": [
      "\n",
      " Web Title \n",
      "\n",
      "\n",
      "\n",
      "\n",
      "\n",
      "\n",
      " home \n",
      " title \n",
      "\n",
      "\n",
      "\n",
      "\n",
      "first link\n",
      "second link\n",
      "thirt link\n",
      "fourth link\n",
      "\n",
      "\n",
      "\n",
      "\n",
      " this is body\n",
      "\n",
      "\n",
      " this is body\n",
      "\n",
      "\n",
      " this is body\n",
      "\n",
      "\n",
      "\n",
      "\n",
      "\n",
      "\n",
      "\n"
     ]
    }
   ],
   "source": [
    "print(soup.get_text())"
   ]
  },
  {
   "cell_type": "code",
   "execution_count": 111,
   "metadata": {},
   "outputs": [
    {
     "data": {
      "text/plain": [
       "{'class': ['col'], 'href': '#'}"
      ]
     },
     "execution_count": 111,
     "metadata": {},
     "output_type": "execute_result"
    }
   ],
   "source": [
    "soup.li.attrs # get all attributes of tag"
   ]
  },
  {
   "cell_type": "code",
   "execution_count": 113,
   "metadata": {},
   "outputs": [
    {
     "name": "stdout",
     "output_type": "stream",
     "text": [
      "\n",
      "\n",
      "<link href=\"style.css\" rel=\"stylesheet\"/>\n",
      "\n",
      "\n",
      "<link href=\"style2.css\" rel=\"stylesheet\"/>\n",
      "\n",
      "\n"
     ]
    }
   ],
   "source": [
    "for child in soup.head.descendants:\n",
    "    print(child)"
   ]
  },
  {
   "cell_type": "code",
   "execution_count": 123,
   "metadata": {},
   "outputs": [
    {
     "name": "stdout",
     "output_type": "stream",
     "text": [
      "<li class=\"col\" href=\"#\">first link</li>\n",
      "<li class=\"col\" href=\"#\">second link</li>\n",
      "<li class=\"col\" href=\"#\">thirt link</li>\n"
     ]
    }
   ],
   "source": [
    "l1 = soup.li #get next_sibling\n",
    "print(l1)\n",
    "l2 = l1.next_sibling.next_sibling\n",
    "print(l2)\n",
    "l3 = l2.next_sibling.next_sibling\n",
    "print(l3)"
   ]
  },
  {
   "cell_type": "code",
   "execution_count": 125,
   "metadata": {},
   "outputs": [
    {
     "name": "stdout",
     "output_type": "stream",
     "text": [
      "<li class=\"col\" href=\"#\">second link</li>\n"
     ]
    }
   ],
   "source": [
    "print(l3.previous_sibling.previous_sibling)"
   ]
  },
  {
   "cell_type": "code",
   "execution_count": 132,
   "metadata": {},
   "outputs": [
    {
     "name": "stdout",
     "output_type": "stream",
     "text": [
      "<div class=\"row\" id=\"1\">\n",
      "<div class=\"col\"> this is body</div>\n",
      "</div>\n",
      "<div class=\"row\" id=\"2\">\n",
      "<div class=\"col\"> this is body</div>\n",
      "</div>\n",
      "<div class=\"row\" id=\"3\">\n",
      "<div class=\"col\"> this is body</div>\n",
      "</div>\n"
     ]
    }
   ],
   "source": [
    "divs = soup.find_all('div')\n",
    "for div in divs:\n",
    "    if div.has_attr('id'):\n",
    "        print(div)"
   ]
  },
  {
   "cell_type": "code",
   "execution_count": 133,
   "metadata": {},
   "outputs": [
    {
     "data": {
      "text/plain": [
       "[<div class=\"sidebar\">\n",
       " <div class=\"row\">\n",
       " <li class=\"col\" href=\"#\">first link</li>\n",
       " <li class=\"col\" href=\"#\">second link</li>\n",
       " <li class=\"col\" href=\"#\">thirt link</li>\n",
       " <li class=\"col\" href=\"#\">fourth link</li>\n",
       " </div>\n",
       " </div>]"
      ]
     },
     "execution_count": 133,
     "metadata": {},
     "output_type": "execute_result"
    }
   ],
   "source": [
    "soup.find_all(\"div\", class_=\"sidebar\")"
   ]
  },
  {
   "cell_type": "code",
   "execution_count": 134,
   "metadata": {},
   "outputs": [
    {
     "data": {
      "text/plain": [
       "['second link']"
      ]
     },
     "execution_count": 134,
     "metadata": {},
     "output_type": "execute_result"
    }
   ],
   "source": [
    "soup.find_all(string=\"second link\")"
   ]
  },
  {
   "cell_type": "code",
   "execution_count": 135,
   "metadata": {},
   "outputs": [
    {
     "data": {
      "text/plain": [
       "[<li class=\"col\" href=\"#\">first link</li>,\n",
       " <li class=\"col\" href=\"#\">second link</li>]"
      ]
     },
     "execution_count": 135,
     "metadata": {},
     "output_type": "execute_result"
    }
   ],
   "source": [
    "soup.find_all(\"li\", limit=2)\n"
   ]
  },
  {
   "cell_type": "code",
   "execution_count": 136,
   "metadata": {},
   "outputs": [
    {
     "data": {
      "text/plain": [
       "[<li class=\"col\" href=\"#\">second link</li>,\n",
       " <li class=\"col\" href=\"#\">thirt link</li>,\n",
       " <li class=\"col\" href=\"#\">fourth link</li>,\n",
       " <div class=\"main_body\">\n",
       " <div class=\"row\" id=\"1\">\n",
       " <div class=\"col\"> this is body</div>\n",
       " </div>\n",
       " <div class=\"row\" id=\"2\">\n",
       " <div class=\"col\"> this is body</div>\n",
       " </div>\n",
       " <div class=\"row\" id=\"3\">\n",
       " <div class=\"col\"> this is body</div>\n",
       " </div>\n",
       " </div>,\n",
       " <div class=\"row\" id=\"1\">\n",
       " <div class=\"col\"> this is body</div>\n",
       " </div>,\n",
       " <div class=\"col\"> this is body</div>,\n",
       " <div class=\"row\" id=\"2\">\n",
       " <div class=\"col\"> this is body</div>\n",
       " </div>,\n",
       " <div class=\"col\"> this is body</div>,\n",
       " <div class=\"row\" id=\"3\">\n",
       " <div class=\"col\"> this is body</div>\n",
       " </div>,\n",
       " <div class=\"col\"> this is body</div>,\n",
       " <link class=\"js\" href=\"javascript.js\" rel=\"stylesheet\"/>]"
      ]
     },
     "execution_count": 136,
     "metadata": {},
     "output_type": "execute_result"
    }
   ],
   "source": [
    "soup.li.find_all_next()"
   ]
  },
  {
   "cell_type": "code",
   "execution_count": 137,
   "metadata": {},
   "outputs": [
    {
     "data": {
      "text/plain": [
       "['first link',\n",
       " '\\n',\n",
       " 'second link',\n",
       " '\\n',\n",
       " 'thirt link',\n",
       " '\\n',\n",
       " 'fourth link',\n",
       " '\\n',\n",
       " '\\n',\n",
       " '\\n',\n",
       " '\\n',\n",
       " '\\n',\n",
       " ' this is body',\n",
       " '\\n',\n",
       " '\\n',\n",
       " '\\n',\n",
       " ' this is body',\n",
       " '\\n',\n",
       " '\\n',\n",
       " '\\n',\n",
       " ' this is body',\n",
       " '\\n',\n",
       " '\\n',\n",
       " '\\n',\n",
       " '\\n',\n",
       " '\\n',\n",
       " '\\n',\n",
       " '\\n']"
      ]
     },
     "execution_count": 137,
     "metadata": {},
     "output_type": "execute_result"
    }
   ],
   "source": [
    "soup.li.find_all_next(string=True)"
   ]
  },
  {
   "cell_type": "code",
   "execution_count": 139,
   "metadata": {},
   "outputs": [
    {
     "data": {
      "text/plain": [
       "[<title> Web Title </title>]"
      ]
     },
     "execution_count": 139,
     "metadata": {},
     "output_type": "execute_result"
    }
   ],
   "source": [
    "# CSS Selectors\n",
    "soup.select(\"title\")\n"
   ]
  },
  {
   "cell_type": "code",
   "execution_count": 141,
   "metadata": {},
   "outputs": [
    {
     "data": {
      "text/plain": [
       "[<li class=\"col\" href=\"#\">first link</li>,\n",
       " <li class=\"col\" href=\"#\">second link</li>,\n",
       " <li class=\"col\" href=\"#\">thirt link</li>,\n",
       " <li class=\"col\" href=\"#\">fourth link</li>]"
      ]
     },
     "execution_count": 141,
     "metadata": {},
     "output_type": "execute_result"
    }
   ],
   "source": [
    "soup.select(\"body div li\")"
   ]
  },
  {
   "cell_type": "code",
   "execution_count": 144,
   "metadata": {},
   "outputs": [
    {
     "data": {
      "text/plain": [
       "[<div class=\"col\"> this is body</div>,\n",
       " <div class=\"col\"> this is body</div>,\n",
       " <div class=\"col\"> this is body</div>]"
      ]
     },
     "execution_count": 144,
     "metadata": {},
     "output_type": "execute_result"
    }
   ],
   "source": [
    "soup.select(\"body div.main_body div.col\")"
   ]
  },
  {
   "cell_type": "code",
   "execution_count": 145,
   "metadata": {},
   "outputs": [
    {
     "data": {
      "text/plain": [
       "[<li class=\"col\" href=\"#\">first link</li>,\n",
       " <li class=\"col\" href=\"#\">second link</li>,\n",
       " <li class=\"col\" href=\"#\">thirt link</li>,\n",
       " <li class=\"col\" href=\"#\">fourth link</li>,\n",
       " <div class=\"col\"> this is body</div>,\n",
       " <div class=\"col\"> this is body</div>,\n",
       " <div class=\"col\"> this is body</div>]"
      ]
     },
     "execution_count": 145,
     "metadata": {},
     "output_type": "execute_result"
    }
   ],
   "source": [
    "soup.select(\"[class~=col]\")"
   ]
  },
  {
   "cell_type": "code",
   "execution_count": 146,
   "metadata": {},
   "outputs": [
    {
     "data": {
      "text/plain": [
       "[<li class=\"col\" href=\"#\">first link</li>,\n",
       " <li class=\"col\" href=\"#\">second link</li>,\n",
       " <li class=\"col\" href=\"#\">thirt link</li>,\n",
       " <li class=\"col\" href=\"#\">fourth link</li>,\n",
       " <div class=\"col\"> this is body</div>,\n",
       " <div class=\"col\"> this is body</div>,\n",
       " <div class=\"col\"> this is body</div>]"
      ]
     },
     "execution_count": 146,
     "metadata": {},
     "output_type": "execute_result"
    }
   ],
   "source": [
    "soup.select(\".col\")"
   ]
  },
  {
   "cell_type": "code",
   "execution_count": 150,
   "metadata": {},
   "outputs": [
    {
     "data": {
      "text/plain": [
       "[<link href=\"style.css\" rel=\"stylesheet\"/>,\n",
       " <link href=\"style2.css\" rel=\"stylesheet\"/>,\n",
       " <link class=\"js\" href=\"javascript.js\" rel=\"stylesheet\"/>]"
      ]
     },
     "execution_count": 150,
     "metadata": {},
     "output_type": "execute_result"
    }
   ],
   "source": [
    "soup.select('link[rel]')"
   ]
  },
  {
   "cell_type": "code",
   "execution_count": null,
   "metadata": {},
   "outputs": [],
   "source": []
  }
 ],
 "metadata": {
  "kernelspec": {
   "display_name": "Python 3",
   "language": "python",
   "name": "python3"
  },
  "language_info": {
   "codemirror_mode": {
    "name": "ipython",
    "version": 3
   },
   "file_extension": ".py",
   "mimetype": "text/x-python",
   "name": "python",
   "nbconvert_exporter": "python",
   "pygments_lexer": "ipython3",
   "version": "3.6.4"
  }
 },
 "nbformat": 4,
 "nbformat_minor": 2
}
