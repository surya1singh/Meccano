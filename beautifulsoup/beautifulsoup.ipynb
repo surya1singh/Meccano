{
 "cells": [
  {
   "cell_type": "code",
   "execution_count": 48,
   "metadata": {},
   "outputs": [],
   "source": [
    "from bs4 import BeautifulSoup # version 4.6.0\n",
    "urllib.request\n",
    "\n",
    "file_url = 'file:///Users/suryasingh/Documents/virtualenv_flask/Meccano/beautifulsoup/firstpage.html'\n",
    "\n",
    "with urllib.request.urlopen(file_url) as web: # read url \n",
    "    data = web.read()\n",
    "    web.close()\n",
    "soup = BeautifulSoup(data,\"html.parser\")"
   ]
  },
  {
   "cell_type": "code",
   "execution_count": 49,
   "metadata": {},
   "outputs": [
    {
     "name": "stdout",
     "output_type": "stream",
     "text": [
      "<html>\n",
      " <title>\n",
      "  title\n",
      " </title>\n",
      " <head>\n",
      "  <link href=\"style.css\" rel=\"stylesheet\"/>\n",
      "  <link href=\"style2.css\" rel=\"stylesheet\"/>\n",
      " </head>\n",
      " <body>\n",
      "  <nav>\n",
      "   <div>\n",
      "    home\n",
      "   </div>\n",
      "   <div>\n",
      "    title\n",
      "   </div>\n",
      "  </nav>\n",
      "  <div class=\"contaner\">\n",
      "   <div class=\"sidebar\">\n",
      "    <div class=\"row\">\n",
      "     <li class=\"col\" href=\"#\">\n",
      "      first link\n",
      "     </li>\n",
      "     <li class=\"col\" href=\"#\">\n",
      "      second link\n",
      "     </li>\n",
      "     <li class=\"col\" href=\"#\">\n",
      "      thirt link\n",
      "     </li>\n",
      "     <li class=\"col\" href=\"#\">\n",
      "      fourth link\n",
      "     </li>\n",
      "    </div>\n",
      "   </div>\n",
      "   <div class=\"main_body\">\n",
      "    <div class=\"row\">\n",
      "     <div class=\"col\">\n",
      "      this is body\n",
      "     </div>\n",
      "    </div>\n",
      "    <div class=\"row\">\n",
      "     <div class=\"col\">\n",
      "      this is body\n",
      "     </div>\n",
      "    </div>\n",
      "    <div class=\"row\">\n",
      "     <div class=\"col\">\n",
      "      this is body\n",
      "     </div>\n",
      "    </div>\n",
      "   </div>\n",
      "  </div>\n",
      "  <link class=\"js\" href=\"javascript.js\" rel=\"stylesheet\"/>\n",
      " </body>\n",
      "</html>\n",
      "\n"
     ]
    }
   ],
   "source": [
    "print(soup.prettify())"
   ]
  },
  {
   "cell_type": "code",
   "execution_count": 61,
   "metadata": {},
   "outputs": [
    {
     "name": "stdout",
     "output_type": "stream",
     "text": [
      "[' home ']\n",
      "[' title ']\n",
      "['\\n', <div class=\"sidebar\">\n",
      "<div class=\"row\">\n",
      "<li class=\"col\" href=\"#\">first link</li>\n",
      "<li class=\"col\" href=\"#\">second link</li>\n",
      "<li class=\"col\" href=\"#\">thirt link</li>\n",
      "<li class=\"col\" href=\"#\">fourth link</li>\n",
      "</div>\n",
      "</div>, '\\n', <div class=\"main_body\">\n",
      "<div class=\"row\">\n",
      "<div class=\"col\"> this is body</div>\n",
      "</div>\n",
      "<div class=\"row\">\n",
      "<div class=\"col\"> this is body</div>\n",
      "</div>\n",
      "<div class=\"row\">\n",
      "<div class=\"col\"> this is body</div>\n",
      "</div>\n",
      "</div>, '\\n']\n",
      "['\\n', <div class=\"row\">\n",
      "<li class=\"col\" href=\"#\">first link</li>\n",
      "<li class=\"col\" href=\"#\">second link</li>\n",
      "<li class=\"col\" href=\"#\">thirt link</li>\n",
      "<li class=\"col\" href=\"#\">fourth link</li>\n",
      "</div>, '\\n']\n",
      "['\\n', <li class=\"col\" href=\"#\">first link</li>, '\\n', <li class=\"col\" href=\"#\">second link</li>, '\\n', <li class=\"col\" href=\"#\">thirt link</li>, '\\n', <li class=\"col\" href=\"#\">fourth link</li>, '\\n']\n",
      "['\\n', <div class=\"row\">\n",
      "<div class=\"col\"> this is body</div>\n",
      "</div>, '\\n', <div class=\"row\">\n",
      "<div class=\"col\"> this is body</div>\n",
      "</div>, '\\n', <div class=\"row\">\n",
      "<div class=\"col\"> this is body</div>\n",
      "</div>, '\\n']\n",
      "['\\n', <div class=\"col\"> this is body</div>, '\\n']\n",
      "[' this is body']\n",
      "['\\n', <div class=\"col\"> this is body</div>, '\\n']\n",
      "[' this is body']\n",
      "['\\n', <div class=\"col\"> this is body</div>, '\\n']\n",
      "[' this is body']\n"
     ]
    }
   ],
   "source": [
    "divs = soup.find_all('div') # find all elements with div tag\n",
    "for div in divs:\n",
    "    div_contents = div.contents\n",
    "    print(div_contents)"
   ]
  },
  {
   "cell_type": "code",
   "execution_count": 67,
   "metadata": {},
   "outputs": [
    {
     "name": "stdout",
     "output_type": "stream",
     "text": [
      "\n",
      "\n",
      "div contains: <div class=\"contaner\">\n",
      "<div class=\"sidebar\">\n",
      "<div class=\"row\">\n",
      "<li class=\"col\" href=\"#\">first link</li>\n",
      "<li class=\"col\" href=\"#\">second link</li>\n",
      "<li class=\"col\" href=\"#\">thirt link</li>\n",
      "<li class=\"col\" href=\"#\">fourth link</li>\n",
      "</div>\n",
      "</div>\n",
      "<div class=\"main_body\">\n",
      "<div class=\"row\">\n",
      "<div class=\"col\"> this is body</div>\n",
      "</div>\n",
      "<div class=\"row\">\n",
      "<div class=\"col\"> this is body</div>\n",
      "</div>\n",
      "<div class=\"row\">\n",
      "<div class=\"col\"> this is body</div>\n",
      "</div>\n",
      "</div>\n",
      "</div>\n",
      "link:  [<li class=\"col\" href=\"#\">first link</li>, <li class=\"col\" href=\"#\">second link</li>, <li class=\"col\" href=\"#\">thirt link</li>, <li class=\"col\" href=\"#\">fourth link</li>]\n",
      "\n",
      "\n",
      "div contains: <div class=\"sidebar\">\n",
      "<div class=\"row\">\n",
      "<li class=\"col\" href=\"#\">first link</li>\n",
      "<li class=\"col\" href=\"#\">second link</li>\n",
      "<li class=\"col\" href=\"#\">thirt link</li>\n",
      "<li class=\"col\" href=\"#\">fourth link</li>\n",
      "</div>\n",
      "</div>\n",
      "link:  [<li class=\"col\" href=\"#\">first link</li>, <li class=\"col\" href=\"#\">second link</li>, <li class=\"col\" href=\"#\">thirt link</li>, <li class=\"col\" href=\"#\">fourth link</li>]\n",
      "\n",
      "\n",
      "div contains: <div class=\"row\">\n",
      "<li class=\"col\" href=\"#\">first link</li>\n",
      "<li class=\"col\" href=\"#\">second link</li>\n",
      "<li class=\"col\" href=\"#\">thirt link</li>\n",
      "<li class=\"col\" href=\"#\">fourth link</li>\n",
      "</div>\n",
      "link:  [<li class=\"col\" href=\"#\">first link</li>, <li class=\"col\" href=\"#\">second link</li>, <li class=\"col\" href=\"#\">thirt link</li>, <li class=\"col\" href=\"#\">fourth link</li>]\n"
     ]
    }
   ],
   "source": [
    "for div in divs: # you can get nested elements\n",
    "    li = div.find_all('li')\n",
    "    if li:\n",
    "        print('\\n\\ndiv contains:' , div)\n",
    "        print('link: ',li)\n",
    "    "
   ]
  },
  {
   "cell_type": "code",
   "execution_count": null,
   "metadata": {},
   "outputs": [],
   "source": []
  }
 ],
 "metadata": {
  "kernelspec": {
   "display_name": "Python 3",
   "language": "python",
   "name": "python3"
  },
  "language_info": {
   "codemirror_mode": {
    "name": "ipython",
    "version": 3
   },
   "file_extension": ".py",
   "mimetype": "text/x-python",
   "name": "python",
   "nbconvert_exporter": "python",
   "pygments_lexer": "ipython3",
   "version": "3.6.4"
  }
 },
 "nbformat": 4,
 "nbformat_minor": 2
}
